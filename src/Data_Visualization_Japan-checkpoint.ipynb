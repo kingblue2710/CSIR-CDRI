{
 "cells": [
  {
   "cell_type": "code",
   "execution_count": 1,
   "metadata": {},
   "outputs": [],
   "source": [
    "import xlrd"
   ]
  },
  {
   "cell_type": "code",
   "execution_count": 5,
   "metadata": {},
   "outputs": [
    {
     "data": {
      "text/plain": [
       "'PCT filing number'"
      ]
     },
     "execution_count": 5,
     "metadata": {},
     "output_type": "execute_result"
    }
   ],
   "source": [
    "loc = (r'C:\\Users\\hp\\Desktop\\CSIR-CDRI\\CleanedData_of_Japan_Canada_Germany_UK\\Japan.xlsx') \n",
    "  \n",
    "# To open Workbook \n",
    "wb = xlrd.open_workbook(loc) \n",
    "sheet = wb.sheet_by_index(0) \n",
    "  \n",
    "# For row 0 and column  1\n",
    "sheet.cell_value(0, 1) "
   ]
  },
  {
   "cell_type": "code",
   "execution_count": 6,
   "metadata": {},
   "outputs": [],
   "source": [
    "for i in range(0,18):\n",
    "    for j in range(0,82):\n",
    "        t = sheet.cell_value(j,i)\n",
    "        k = str(t)\n",
    "        l = len(k)\n",
    "        "
   ]
  },
  {
   "cell_type": "code",
   "execution_count": 7,
   "metadata": {},
   "outputs": [],
   "source": [
    "for j in range(1,82):\n",
    "        t = sheet.cell_value(j,1)\n",
    "        k = str(t)\n",
    "        l = len(k)\n",
    "        "
   ]
  },
  {
   "cell_type": "code",
   "execution_count": 8,
   "metadata": {},
   "outputs": [
    {
     "name": "stdout",
     "output_type": "stream",
     "text": [
      "82\n"
     ]
    }
   ],
   "source": [
    "print(sheet.nrows) "
   ]
  },
  {
   "cell_type": "code",
   "execution_count": 9,
   "metadata": {},
   "outputs": [
    {
     "name": "stdout",
     "output_type": "stream",
     "text": [
      "[0, 0, 0, 0, 0, 0, 0, 0, 0, 0, 0, 0, 0, 0, 0, 0, 0, 0, 0, 0]\n"
     ]
    }
   ],
   "source": [
    "number_of_patents_filed = [0]*20\n",
    "print(number_of_patents_filed)"
   ]
  },
  {
   "cell_type": "code",
   "execution_count": 10,
   "metadata": {},
   "outputs": [
    {
     "name": "stdout",
     "output_type": "stream",
     "text": [
      "2009\n",
      "2009\n",
      "2009\n",
      "2009\n",
      "2010\n",
      "2010\n",
      "2010\n",
      "2009\n",
      "2010\n",
      "2008\n",
      "2008\n",
      "2010\n",
      "2008\n",
      "2008\n",
      "2009\n",
      "2008\n",
      "2008\n",
      "2008\n",
      "2008\n",
      "2009\n",
      "2009\n",
      "2010\n",
      "2010\n",
      "2010\n",
      "2009\n",
      "2010\n",
      "2009\n",
      "2011\n",
      "2011\n",
      "2011\n",
      "2011\n",
      "2010\n",
      "2010\n",
      "2011\n",
      "2010\n",
      "2011\n",
      "2010\n",
      "2010\n",
      "2010\n",
      "2010\n",
      "2010\n",
      "2009\n",
      "2009\n",
      "2010\n",
      "2009\n",
      "2009\n",
      "2009\n",
      "2010\n",
      "2009\n",
      "2009\n",
      "2010\n",
      "2009\n",
      "2011\n",
      "2010\n",
      "2009\n",
      "2011\n",
      "2011\n",
      "2012\n",
      "2013\n",
      "2013\n",
      "2014\n",
      "2014\n",
      "2014\n",
      "2014\n",
      "2015\n",
      "2014\n",
      "2013\n",
      "2015\n",
      "2015\n",
      "2015\n",
      "2016\n",
      "2015\n",
      "2015\n",
      "2015\n",
      "2014\n",
      "2014\n",
      "2017\n",
      "2016\n",
      "2016\n",
      "2015\n",
      "2017\n"
     ]
    }
   ],
   "source": [
    "number_of_patents_filed = [0]*20\n",
    "for j in range(1,82):\n",
    "        t = sheet.cell_value(j,1)\n",
    "        k = str(t)\n",
    "        \n",
    "        #print(k)\n",
    "        l = len(k)\n",
    "        yy = k.split('-')\n",
    "        print(yy[0])\n",
    "        rr = int(yy[0])\n",
    "        ss = rr -1999\n",
    "        #print(ss)\n",
    "        number_of_patents_filed[ss] = number_of_patents_filed[ss] + 1\n",
    "b = 1999\n",
    "for k in number_of_patents_filed:\n",
    "    #print(b,\" : \",k)\n",
    "    #print(k)\n",
    "    b = b + 1"
   ]
  },
  {
   "cell_type": "code",
   "execution_count": 39,
   "metadata": {},
   "outputs": [
    {
     "name": "stdout",
     "output_type": "stream",
     "text": [
      "[0, 0, 0, 0, 0, 0, 0, 0, 0, 0, 0, 0, 0, 0, 0, 0, 0, 0, 0, 0]\n"
     ]
    }
   ],
   "source": [
    "number_of_patents_granted = [0]*20\n",
    "print(number_of_patents_granted)"
   ]
  },
  {
   "cell_type": "code",
   "execution_count": 40,
   "metadata": {},
   "outputs": [
    {
     "name": "stdout",
     "output_type": "stream",
     "text": [
      "25.09.2012\n"
     ]
    }
   ],
   "source": [
    "print(sheet.cell_value(2,15))"
   ]
  },
  {
   "cell_type": "code",
   "execution_count": 41,
   "metadata": {},
   "outputs": [
    {
     "data": {
      "text/plain": [
       "True"
      ]
     },
     "execution_count": 41,
     "metadata": {},
     "output_type": "execute_result"
    }
   ],
   "source": [
    "import re\n",
    "l=[\"\\d\\d.\\d\\d.\\d\\d\\d\\d\",\"\\d\\d-\\d\\d-\\d\\d\\d\\d\"]\n",
    "pattern=re.compile(\"\\d\\d.\\d\\d.\\d\\d\\d\\d\",re.IGNORECASE)\n",
    "bool(pattern.match(\"12/12/2007\"))\n"
   ]
  },
  {
   "cell_type": "code",
   "execution_count": 42,
   "metadata": {},
   "outputs": [
    {
     "name": "stdout",
     "output_type": "stream",
     "text": [
      "1999  :  0\n",
      "2000  :  0\n",
      "2001  :  0\n",
      "2002  :  0\n",
      "2003  :  0\n",
      "2004  :  0\n",
      "2005  :  0\n",
      "2006  :  0\n",
      "2007  :  0\n",
      "2008  :  0\n",
      "2009  :  0\n",
      "2010  :  0\n",
      "2011  :  3\n",
      "2012  :  8\n",
      "2013  :  4\n",
      "2014  :  2\n",
      "2015  :  3\n",
      "2016  :  3\n",
      "2017  :  2\n",
      "2018  :  2\n"
     ]
    }
   ],
   "source": [
    "import re\n",
    "pattern=re.compile(\"\\d\\d.\\d\\d.\\d\\d\\d\\d\",re.IGNORECASE)\n",
    "number_of_patents_granted = [0]*20\n",
    "for j in range(1,82):\n",
    "        t = sheet.cell_value(j,15)\n",
    "        k = str(t)\n",
    "        l = len(k)\n",
    "        if(bool(pattern.match(k))):\n",
    "            yy = k.split('.')\n",
    "            #print(yy[2])\n",
    "            if(len(yy) > 1): \n",
    "                rr = int(yy[2])\n",
    "                ss = rr - 1999\n",
    "                number_of_patents_granted[ss] = number_of_patents_granted[ss] + 1\n",
    "b = 1999\n",
    "for k in number_of_patents_granted:\n",
    "    print(b,\" : \",k)\n",
    "    #print(k)\n",
    "    b = b + 1"
   ]
  },
  {
   "cell_type": "code",
   "execution_count": 43,
   "metadata": {},
   "outputs": [],
   "source": [
    "number_of_patents_published = [0]*20"
   ]
  },
  {
   "cell_type": "code",
   "execution_count": 44,
   "metadata": {},
   "outputs": [
    {
     "name": "stdout",
     "output_type": "stream",
     "text": [
      "[0, 0, 0, 0, 0, 0, 0, 0, 0, 0, 0, 0, 0, 0, 0, 0, 0, 0, 0, 0]\n"
     ]
    }
   ],
   "source": [
    "print(number_of_patents_published)"
   ]
  },
  {
   "cell_type": "code",
   "execution_count": 45,
   "metadata": {},
   "outputs": [
    {
     "name": "stdout",
     "output_type": "stream",
     "text": [
      "1999  :  0\n",
      "2000  :  0\n",
      "2001  :  0\n",
      "2002  :  0\n",
      "2003  :  0\n",
      "2004  :  0\n",
      "2005  :  0\n",
      "2006  :  0\n",
      "2007  :  0\n",
      "2008  :  0\n",
      "2009  :  0\n",
      "2010  :  21\n",
      "2011  :  34\n",
      "2012  :  3\n",
      "2013  :  2\n",
      "2014  :  4\n",
      "2015  :  6\n",
      "2016  :  4\n",
      "2017  :  3\n",
      "2018  :  0\n"
     ]
    }
   ],
   "source": [
    "import re\n",
    "pattern=re.compile(\"\\d\\d.\\d\\d.\\d\\d\\d\\d\")\n",
    "number_of_patents_published = [0]*20\n",
    "for j in range(1,82):\n",
    "        t = sheet.cell_value(j,16)\n",
    "        k = str(t)\n",
    "        l = len(k)\n",
    "        if(bool(pattern.match(k))):\n",
    "            yy = k.split('.')\n",
    "            #print(yy[2])\n",
    "            if(len(yy) > 1): \n",
    "                rr = int(yy[2])\n",
    "                ss = rr - 1999\n",
    "                number_of_patents_published[ss] = number_of_patents_published[ss] + 1\n",
    "b = 1999\n",
    "for k in number_of_patents_published:\n",
    "    print(b,\" : \",k)\n",
    "    #print(k)\n",
    "    b = b + 1"
   ]
  },
  {
   "cell_type": "code",
   "execution_count": 46,
   "metadata": {},
   "outputs": [
    {
     "name": "stdout",
     "output_type": "stream",
     "text": [
      "[0, 0, 0, 0, 0, 0, 0, 0, 0, 0, 0, 0, 0, 0, 0, 0, 0, 0, 0, 0]\n"
     ]
    }
   ],
   "source": [
    "\n",
    "number_of_Patents_granted_Y = [0]*20\n",
    "print(number_of_Patents_granted_Y)"
   ]
  },
  {
   "cell_type": "code",
   "execution_count": 47,
   "metadata": {},
   "outputs": [
    {
     "name": "stdout",
     "output_type": "stream",
     "text": [
      "1999  :  0\n",
      "2000  :  0\n",
      "2001  :  0\n",
      "2002  :  0\n",
      "2003  :  0\n",
      "2004  :  0\n",
      "2005  :  0\n",
      "2006  :  0\n",
      "2007  :  0\n",
      "2008  :  0\n",
      "2009  :  0\n",
      "2010  :  0\n",
      "2011  :  3\n",
      "2012  :  7\n",
      "2013  :  3\n",
      "2014  :  2\n",
      "2015  :  2\n",
      "2016  :  3\n",
      "2017  :  2\n",
      "2018  :  2\n"
     ]
    }
   ],
   "source": [
    "import re\n",
    "pattern=re.compile(\"\\d\\d.\\d\\d.\\d\\d\\d\\d\")\n",
    "number_of_Patents_granted_Y = [0]*20\n",
    "for j in range(1,82):\n",
    "        t = sheet.cell_value(j,15)\n",
    "        year = str(sheet.cell_value(j,14))\n",
    "        k = str(t)\n",
    "        l = len(k)\n",
    "        st = l -1\n",
    "        if(bool(pattern.match(k))):\n",
    "            yy = k.split('.')\n",
    "            #print(yy[2])\n",
    "            if(len(yy) > 1): \n",
    "                rr = int(yy[2])\n",
    "                ss = rr - 1999\n",
    "                if(year == \"Y\"):\n",
    "                    number_of_Patents_granted_Y[ss] = number_of_Patents_granted_Y[ss] + 1\n",
    "b = 1999\n",
    "for k in number_of_Patents_granted_Y:\n",
    "    print(b,\" : \",k)\n",
    "    #print(k)\n",
    "    b = b + 1"
   ]
  },
  {
   "cell_type": "code",
   "execution_count": 48,
   "metadata": {},
   "outputs": [
    {
     "name": "stdout",
     "output_type": "stream",
     "text": [
      "[0, 0, 0, 0, 0, 0, 0, 0, 0, 0, 0, 0, 0, 0, 0, 0, 0, 0, 0, 0]\n"
     ]
    }
   ],
   "source": [
    "number_of_Patents_granted_N = [0]*20\n",
    "print(number_of_Patents_granted_N)"
   ]
  },
  {
   "cell_type": "code",
   "execution_count": 49,
   "metadata": {},
   "outputs": [
    {
     "name": "stdout",
     "output_type": "stream",
     "text": [
      "1999  :  0\n",
      "2000  :  0\n",
      "2001  :  0\n",
      "2002  :  0\n",
      "2003  :  0\n",
      "2004  :  0\n",
      "2005  :  0\n",
      "2006  :  0\n",
      "2007  :  0\n",
      "2008  :  0\n",
      "2009  :  0\n",
      "2010  :  0\n",
      "2011  :  0\n",
      "2012  :  1\n",
      "2013  :  1\n",
      "2014  :  0\n",
      "2015  :  1\n",
      "2016  :  0\n",
      "2017  :  0\n",
      "2018  :  0\n"
     ]
    }
   ],
   "source": [
    "import re\n",
    "pattern=re.compile(\"\\d\\d.\\d\\d.\\d\\d\\d\\d\")\n",
    "number_of_Patents_granted_N = [0]*20\n",
    "for j in range(1,82):\n",
    "        t = sheet.cell_value(j,15)\n",
    "        year = str(sheet.cell_value(j,14))\n",
    "        k = str(t)\n",
    "        l = len(k)\n",
    "        st = l -1\n",
    "        if(bool(pattern.match(k))):\n",
    "            yy = k.split('.')\n",
    "            #print(yy[2])\n",
    "            if(len(yy) > 1): \n",
    "                rr = int(yy[2])\n",
    "                ss = rr - 1999\n",
    "                if(year == \"N\"):\n",
    "                    number_of_Patents_granted_N[ss] = number_of_Patents_granted_N[ss] + 1\n",
    "b = 1999\n",
    "for k in number_of_Patents_granted_N:\n",
    "    print(b,\" : \",k)\n",
    "    #print(k)\n",
    "    b = b + 1"
   ]
  },
  {
   "cell_type": "code",
   "execution_count": 50,
   "metadata": {},
   "outputs": [
    {
     "name": "stdout",
     "output_type": "stream",
     "text": [
      "[0, 0, 0, 0, 0, 0, 0, 0, 0, 0, 0, 0, 0, 0, 0, 0, 0, 0, 0, 0]\n"
     ]
    }
   ],
   "source": [
    "number_of_patents_granted_to_Company = [0]*20\n",
    "print(number_of_patents_granted_to_Company)"
   ]
  },
  {
   "cell_type": "code",
   "execution_count": 51,
   "metadata": {},
   "outputs": [
    {
     "name": "stdout",
     "output_type": "stream",
     "text": [
      "1999  :  0\n",
      "2000  :  0\n",
      "2001  :  0\n",
      "2002  :  0\n",
      "2003  :  0\n",
      "2004  :  0\n",
      "2005  :  0\n",
      "2006  :  0\n",
      "2007  :  0\n",
      "2008  :  0\n",
      "2009  :  0\n",
      "2010  :  0\n",
      "2011  :  3\n",
      "2012  :  4\n",
      "2013  :  3\n",
      "2014  :  2\n",
      "2015  :  1\n",
      "2016  :  1\n",
      "2017  :  2\n",
      "2018  :  1\n"
     ]
    }
   ],
   "source": [
    "import re\n",
    "pattern=re.compile(\"\\d\\d.\\d\\d.\\d\\d\\d\\d\")\n",
    "number_of_patents_granted_to_Company = [0]*20\n",
    "for j in range(1,82):\n",
    "        t = sheet.cell_value(j,15)\n",
    "        owner = str(sheet.cell_value(j,6))\n",
    "        #print(owner)\n",
    "        k = str(t)\n",
    "        l = len(k)\n",
    "        st = l -1\n",
    "        if(bool(pattern.match(k))):\n",
    "            yy = k.split('.')\n",
    "            #print(yy[2])\n",
    "            if(len(yy) > 1): \n",
    "                rr = int(yy[2])\n",
    "                ss = rr - 1999\n",
    "                if(owner == \"Company\" or owner==\"company\"):\n",
    "                    number_of_patents_granted_to_Company[ss] = number_of_patents_granted_to_Company[ss] + 1\n",
    "b = 1999\n",
    "for k in number_of_patents_granted_to_Company:\n",
    "    print(b,\" : \",k)\n",
    "    #print(k)\n",
    "    b = b + 1"
   ]
  },
  {
   "cell_type": "code",
   "execution_count": 52,
   "metadata": {},
   "outputs": [
    {
     "name": "stdout",
     "output_type": "stream",
     "text": [
      "[0, 0, 0, 0, 0, 0, 0, 0, 0, 0, 0, 0, 0, 0, 0, 0, 0, 0, 0, 0]\n"
     ]
    }
   ],
   "source": [
    "number_of_patents_granted_to_Individual = [0]*20\n",
    "print(number_of_patents_granted_to_Individual)"
   ]
  },
  {
   "cell_type": "code",
   "execution_count": 53,
   "metadata": {
    "collapsed": true
   },
   "outputs": [
    {
     "name": "stdout",
     "output_type": "stream",
     "text": [
      "1999  :  0\n",
      "2000  :  0\n",
      "2001  :  0\n",
      "2002  :  0\n",
      "2003  :  0\n",
      "2004  :  0\n",
      "2005  :  0\n",
      "2006  :  0\n",
      "2007  :  0\n",
      "2008  :  0\n",
      "2009  :  0\n",
      "2010  :  0\n",
      "2011  :  0\n",
      "2012  :  1\n",
      "2013  :  1\n",
      "2014  :  0\n",
      "2015  :  1\n",
      "2016  :  0\n",
      "2017  :  0\n",
      "2018  :  1\n"
     ]
    }
   ],
   "source": [
    "import re\n",
    "pattern=re.compile(\"\\d\\d.\\d\\d.\\d\\d\\d\\d\")\n",
    "number_of_patents_granted_to_Individual = [0]*20\n",
    "for j in range(1,82):\n",
    "        t = sheet.cell_value(j,15)\n",
    "        owner = str(sheet.cell_value(j,6))\n",
    "        #print(owner)\n",
    "        k = str(t)\n",
    "        l = len(k)\n",
    "        st = l -1\n",
    "        if(bool(pattern.match(k))):\n",
    "            yy = k.split('.')\n",
    "            #print(yy[2])\n",
    "            if(len(yy) > 1): \n",
    "                rr = int(yy[2])\n",
    "                ss = rr - 1999\n",
    "                if(owner == \"Individual\"):\n",
    "                    number_of_patents_granted_to_Individual[ss] = number_of_patents_granted_to_Individual[ss] + 1\n",
    "b = 1999\n",
    "for k in number_of_patents_granted_to_Individual:\n",
    "    print(b,\" : \",k)\n",
    "    #print(k)\n",
    "    b = b + 1"
   ]
  },
  {
   "cell_type": "code",
   "execution_count": 54,
   "metadata": {},
   "outputs": [
    {
     "name": "stdout",
     "output_type": "stream",
     "text": [
      "[0, 0, 0, 0, 0, 0, 0, 0, 0, 0, 0, 0, 0, 0, 0, 0, 0, 0, 0, 0]\n"
     ]
    }
   ],
   "source": [
    "number_of_patents_granted_to_Research_Organisation = [0]*20\n",
    "print(number_of_patents_granted_to_Research_Organisation)"
   ]
  },
  {
   "cell_type": "code",
   "execution_count": 55,
   "metadata": {
    "scrolled": true
   },
   "outputs": [
    {
     "name": "stdout",
     "output_type": "stream",
     "text": [
      "1999  :  0\n",
      "2000  :  0\n",
      "2001  :  0\n",
      "2002  :  0\n",
      "2003  :  0\n",
      "2004  :  0\n",
      "2005  :  0\n",
      "2006  :  0\n",
      "2007  :  0\n",
      "2008  :  0\n",
      "2009  :  0\n",
      "2010  :  0\n",
      "2011  :  0\n",
      "2012  :  3\n",
      "2013  :  0\n",
      "2014  :  0\n",
      "2015  :  1\n",
      "2016  :  1\n",
      "2017  :  0\n",
      "2018  :  0\n"
     ]
    }
   ],
   "source": [
    "import re\n",
    "pattern=re.compile(\"\\d\\d.\\d\\d.\\d\\d\\d\\d\")\n",
    "number_of_patents_granted_to_Research_Organisation = [0]*20\n",
    "for j in range(1,82):\n",
    "        t = sheet.cell_value(j,15)\n",
    "        owner = str(sheet.cell_value(j,6))\n",
    "        #print(owner)\n",
    "        k = str(t)\n",
    "        l = len(k)\n",
    "        st = l -1\n",
    "        if(bool(pattern.match(k))):\n",
    "            yy = k.split('.')\n",
    "            #print(yy[2])\n",
    "            if(len(yy) > 1): \n",
    "                rr = int(yy[2])\n",
    "                ss = rr - 1999\n",
    "                if(owner == \"Research Organisation\" or owner==\"Research organisation\"):\n",
    "                    number_of_patents_granted_to_Research_Organisation[ss] = number_of_patents_granted_to_Research_Organisation[ss] + 1\n",
    "b = 1999\n",
    "for k in number_of_patents_granted_to_Research_Organisation:\n",
    "    print(b,\" : \",k)\n",
    "    b = b + 1"
   ]
  },
  {
   "cell_type": "code",
   "execution_count": 56,
   "metadata": {
    "scrolled": false
   },
   "outputs": [
    {
     "name": "stdout",
     "output_type": "stream",
     "text": [
      "Year,Number of Patents Filed,Number of Patents Granted,Number of Patents Published,Number of Patents Granted Y Status,Number of Patents Granted N Status,Number of Patents Granted to Company,Number of Patents Granted to Individual,Number of Patents Granted to Research Organisation\n",
      "1999 , 0 , 0 , 0 , 0 , 0 , 0 , 0 , 0\n",
      "2000 , 0 , 0 , 0 , 0 , 0 , 0 , 0 , 0\n",
      "2001 , 0 , 0 , 0 , 0 , 0 , 0 , 0 , 0\n",
      "2002 , 0 , 0 , 0 , 0 , 0 , 0 , 0 , 0\n",
      "2003 , 0 , 0 , 0 , 0 , 0 , 0 , 0 , 0\n",
      "2004 , 0 , 0 , 0 , 0 , 0 , 0 , 0 , 0\n",
      "2005 , 0 , 0 , 0 , 0 , 0 , 0 , 0 , 0\n",
      "2006 , 0 , 0 , 0 , 0 , 0 , 0 , 0 , 0\n",
      "2007 , 0 , 0 , 0 , 0 , 0 , 0 , 0 , 0\n",
      "2008 , 8 , 0 , 0 , 0 , 0 , 0 , 0 , 0\n",
      "2009 , 19 , 0 , 0 , 0 , 0 , 0 , 0 , 0\n",
      "2010 , 21 , 0 , 21 , 0 , 0 , 0 , 0 , 0\n",
      "2011 , 9 , 3 , 34 , 3 , 0 , 3 , 0 , 0\n",
      "2012 , 1 , 8 , 3 , 7 , 1 , 4 , 1 , 3\n",
      "2013 , 3 , 4 , 2 , 3 , 1 , 3 , 1 , 0\n",
      "2014 , 7 , 2 , 4 , 2 , 0 , 2 , 0 , 0\n",
      "2015 , 8 , 3 , 6 , 2 , 1 , 1 , 1 , 1\n",
      "2016 , 3 , 3 , 4 , 3 , 0 , 1 , 0 , 1\n",
      "2017 , 2 , 2 , 3 , 2 , 0 , 2 , 0 , 0\n",
      "2018 , 0 , 2 , 0 , 2 , 0 , 1 , 1 , 0\n"
     ]
    }
   ],
   "source": [
    "print(\"Year,Number of Patents Filed,Number of Patents Granted,Number of Patents Published,Number of Patents Granted Y Status,Number of Patents Granted N Status,Number of Patents Granted to Company,Number of Patents Granted to Individual,Number of Patents Granted to Research Organisation\")\n",
    "b = 1999\n",
    "for i in range(0,20):\n",
    "    print(b,\",\",number_of_patents_filed[i],\",\",number_of_patents_granted[i],\",\",number_of_patents_published[i],\",\",number_of_Patents_granted_Y[i],\",\",number_of_Patents_granted_N[i],\",\",number_of_patents_granted_to_Company[i],\",\",number_of_patents_granted_to_Individual[i],\",\",number_of_patents_granted_to_Research_Organisation[i])\n",
    "    b = b + 1"
   ]
  },
  {
   "cell_type": "code",
   "execution_count": 57,
   "metadata": {},
   "outputs": [],
   "source": [
    "maxi = 0\n",
    "import re\n",
    "pattern=re.compile(\"\\d\\d.\\d\\d.\\d\\d\\d\\d\")\n",
    "for j in range(1,82):\n",
    "        t = sheet.cell_value(j,15)\n",
    "        owner = str(sheet.cell_value(j,6))\n",
    "        #print(owner)\n",
    "        k = str(t)\n",
    "        l = len(k)\n",
    "        st = l -1\n",
    "        if(bool(pattern.match(k))):\n",
    "            yy = k.split('.')\n",
    "            #print(yy[2])\n",
    "            if(len(yy) > 1): \n",
    "                xx = int(yy[2])\n",
    "                if(maxi < xx):\n",
    "                    maxi = xx"
   ]
  },
  {
   "cell_type": "code",
   "execution_count": 58,
   "metadata": {},
   "outputs": [
    {
     "data": {
      "text/plain": [
       "2018"
      ]
     },
     "execution_count": 58,
     "metadata": {},
     "output_type": "execute_result"
    }
   ],
   "source": [
    "maxi"
   ]
  },
  {
   "cell_type": "code",
   "execution_count": null,
   "metadata": {},
   "outputs": [],
   "source": []
  },
  {
   "cell_type": "code",
   "execution_count": null,
   "metadata": {},
   "outputs": [],
   "source": []
  }
 ],
 "metadata": {
  "kernelspec": {
   "display_name": "Python 3",
   "language": "python",
   "name": "python3"
  },
  "language_info": {
   "codemirror_mode": {
    "name": "ipython",
    "version": 3
   },
   "file_extension": ".py",
   "mimetype": "text/x-python",
   "name": "python",
   "nbconvert_exporter": "python",
   "pygments_lexer": "ipython3",
   "version": "3.7.1"
  }
 },
 "nbformat": 4,
 "nbformat_minor": 1
}
