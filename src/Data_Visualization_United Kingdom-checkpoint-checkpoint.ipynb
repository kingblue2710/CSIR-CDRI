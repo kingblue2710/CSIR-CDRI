{
 "cells": [
  {
   "cell_type": "code",
   "execution_count": 1,
   "metadata": {},
   "outputs": [],
   "source": [
    "import xlrd"
   ]
  },
  {
   "cell_type": "code",
   "execution_count": 9,
   "metadata": {},
   "outputs": [
    {
     "data": {
      "text/plain": [
       "'PCT filing number'"
      ]
     },
     "execution_count": 9,
     "metadata": {},
     "output_type": "execute_result"
    }
   ],
   "source": [
    "loc = (r'C:\\Users\\hp\\Desktop\\CSIR-CDRI\\United Kingdom.xlsx') \n",
    "  \n",
    "# To open Workbook \n",
    "wb = xlrd.open_workbook(loc) \n",
    "sheet = wb.sheet_by_index(0) \n",
    "  \n",
    "# For row 0 and column  1\n",
    "sheet.cell_value(0, 1) "
   ]
  },
  {
   "cell_type": "code",
   "execution_count": 10,
   "metadata": {},
   "outputs": [],
   "source": [
    "for i in range(0,18):\n",
    "    for j in range(0,6):\n",
    "        t = sheet.cell_value(j,i)\n",
    "        k = str(t)\n",
    "        l = len(k)\n",
    "        "
   ]
  },
  {
   "cell_type": "code",
   "execution_count": 11,
   "metadata": {},
   "outputs": [],
   "source": [
    "for j in range(1,6):\n",
    "        t = sheet.cell_value(j,1)\n",
    "        k = str(t)\n",
    "        l = len(k)\n",
    "        "
   ]
  },
  {
   "cell_type": "code",
   "execution_count": 12,
   "metadata": {},
   "outputs": [
    {
     "name": "stdout",
     "output_type": "stream",
     "text": [
      "6\n"
     ]
    }
   ],
   "source": [
    "print(sheet.nrows) "
   ]
  },
  {
   "cell_type": "code",
   "execution_count": 13,
   "metadata": {},
   "outputs": [
    {
     "name": "stdout",
     "output_type": "stream",
     "text": [
      "22.08.2003\n"
     ]
    }
   ],
   "source": [
    "print(sheet.cell_value(1,3))"
   ]
  },
  {
   "cell_type": "code",
   "execution_count": 15,
   "metadata": {},
   "outputs": [
    {
     "name": "stdout",
     "output_type": "stream",
     "text": [
      "1998  :  0\n",
      "1999  :  0\n",
      "2000  :  0\n",
      "2001  :  0\n",
      "2002  :  0\n",
      "2003  :  1\n",
      "2004  :  0\n",
      "2005  :  0\n",
      "2006  :  1\n",
      "2007  :  2\n",
      "2008  :  0\n",
      "2009  :  0\n",
      "2010  :  0\n",
      "2011  :  0\n",
      "2012  :  1\n",
      "2013  :  0\n",
      "2014  :  0\n",
      "2015  :  0\n",
      "2016  :  0\n",
      "2017  :  0\n",
      "2018  :  0\n"
     ]
    }
   ],
   "source": [
    "import re\n",
    "pattern=re.compile(\"\\d\\d.\\d\\d.\\d\\d\\d\\d\")\n",
    "number_of_patents_filed = [0]*21\n",
    "for j in range(1,6):\n",
    "    t = sheet.cell_value(j,3)\n",
    "    k = str(t)\n",
    "    #print(k)\n",
    "    l = len(k)\n",
    "    if(bool(pattern.match(k))):\n",
    "        yy = k.split('.')\n",
    "        #print(yy[2])\n",
    "        if(len(yy) > 1):\n",
    "            rr = int(yy[2])\n",
    "            ss = rr -1998\n",
    "            number_of_patents_filed[ss] = number_of_patents_filed[ss] + 1\n",
    "b = 1998\n",
    "for k in number_of_patents_filed:\n",
    "    print(b,\" : \",k)\n",
    "    #print(k)\n",
    "    b = b + 1"
   ]
  },
  {
   "cell_type": "code",
   "execution_count": 16,
   "metadata": {},
   "outputs": [
    {
     "name": "stdout",
     "output_type": "stream",
     "text": [
      "21.04.2016\n"
     ]
    }
   ],
   "source": [
    "print(sheet.cell_value(2,15))"
   ]
  },
  {
   "cell_type": "code",
   "execution_count": 17,
   "metadata": {},
   "outputs": [
    {
     "data": {
      "text/plain": [
       "True"
      ]
     },
     "execution_count": 17,
     "metadata": {},
     "output_type": "execute_result"
    }
   ],
   "source": [
    "import re\n",
    "pattern=re.compile(\"\\d\\d.\\d\\d.\\d\\d\\d\\d\")\n",
    "bool(pattern.match(\"12.12.2007\"))\n"
   ]
  },
  {
   "cell_type": "code",
   "execution_count": 18,
   "metadata": {},
   "outputs": [
    {
     "name": "stdout",
     "output_type": "stream",
     "text": [
      "1998  :  0\n",
      "1999  :  0\n",
      "2000  :  0\n",
      "2001  :  0\n",
      "2002  :  0\n",
      "2003  :  0\n",
      "2004  :  0\n",
      "2005  :  0\n",
      "2006  :  0\n",
      "2007  :  0\n",
      "2008  :  0\n",
      "2009  :  0\n",
      "2010  :  1\n",
      "2011  :  3\n",
      "2012  :  0\n",
      "2013  :  0\n",
      "2014  :  0\n",
      "2015  :  0\n",
      "2016  :  1\n",
      "2017  :  0\n",
      "2018  :  0\n"
     ]
    }
   ],
   "source": [
    "import re\n",
    "pattern=re.compile(\"\\d\\d.\\d\\d.\\d\\d\\d\\d\")\n",
    "number_of_patents_granted = [0]*21\n",
    "for j in range(1,6):\n",
    "        t = sheet.cell_value(j,15)\n",
    "        k = str(t)\n",
    "        l = len(k)\n",
    "        st = l -1\n",
    "        if(bool(pattern.match(k))):\n",
    "            yy = k.split('.')\n",
    "            #print(yy[2])\n",
    "            if(len(yy) > 1): \n",
    "                rr = int(yy[2])\n",
    "                ss = rr - 1998\n",
    "                number_of_patents_granted[ss] = number_of_patents_granted[ss] + 1\n",
    "b = 1998\n",
    "for k in number_of_patents_granted:\n",
    "    print(b,\" : \",k)\n",
    "    #print(k)\n",
    "    b = b + 1"
   ]
  },
  {
   "cell_type": "code",
   "execution_count": 118,
   "metadata": {},
   "outputs": [
    {
     "name": "stdout",
     "output_type": "stream",
     "text": [
      "04-03-1999\n"
     ]
    }
   ],
   "source": [
    "print(sheet.cell_value(1,16))"
   ]
  },
  {
   "cell_type": "code",
   "execution_count": 19,
   "metadata": {},
   "outputs": [
    {
     "name": "stdout",
     "output_type": "stream",
     "text": [
      "1998  :  0\n",
      "1999  :  0\n",
      "2000  :  0\n",
      "2001  :  0\n",
      "2002  :  0\n",
      "2003  :  0\n",
      "2004  :  0\n",
      "2005  :  0\n",
      "2006  :  0\n",
      "2007  :  0\n",
      "2008  :  0\n",
      "2009  :  0\n",
      "2010  :  0\n",
      "2011  :  3\n",
      "2012  :  0\n",
      "2013  :  0\n",
      "2014  :  0\n",
      "2015  :  0\n",
      "2016  :  1\n",
      "2017  :  0\n",
      "2018  :  0\n"
     ]
    }
   ],
   "source": [
    "import re\n",
    "pattern=re.compile(\"\\d\\d.\\d\\d.\\d\\d\\d\\d\")\n",
    "number_of_patents_published = [0]*21\n",
    "for j in range(1,6):\n",
    "        t = sheet.cell_value(j,16)\n",
    "        k = str(t)\n",
    "        l = len(k)\n",
    "        st = l -1\n",
    "        if(bool(pattern.match(k))):\n",
    "            yy = k.split('.')\n",
    "            #print(yy[2])\n",
    "            if(len(yy) > 1): \n",
    "                rr = int(yy[2])\n",
    "                ss = rr - 1998\n",
    "                number_of_patents_published[ss] = number_of_patents_published[ss] + 1\n",
    "b = 1998\n",
    "for k in number_of_patents_published:\n",
    "    print(b,\" : \",k)\n",
    "    #print(k)\n",
    "    b = b + 1"
   ]
  },
  {
   "cell_type": "code",
   "execution_count": 20,
   "metadata": {},
   "outputs": [
    {
     "name": "stdout",
     "output_type": "stream",
     "text": [
      "1998  :  0\n",
      "1999  :  0\n",
      "2000  :  0\n",
      "2001  :  0\n",
      "2002  :  0\n",
      "2003  :  0\n",
      "2004  :  0\n",
      "2005  :  0\n",
      "2006  :  0\n",
      "2007  :  0\n",
      "2008  :  0\n",
      "2009  :  0\n",
      "2010  :  1\n",
      "2011  :  3\n",
      "2012  :  0\n",
      "2013  :  0\n",
      "2014  :  0\n",
      "2015  :  0\n",
      "2016  :  1\n",
      "2017  :  0\n",
      "2018  :  0\n"
     ]
    }
   ],
   "source": [
    "import re\n",
    "pattern=re.compile(\"\\d\\d.\\d\\d.\\d\\d\\d\\d\")\n",
    "number_of_Patents_granted_Y = [0]*21\n",
    "for j in range(1,6):\n",
    "        t = sheet.cell_value(j,15)\n",
    "        year = str(sheet.cell_value(j,14))\n",
    "        k = str(t)\n",
    "        l = len(k)\n",
    "        st = l -1\n",
    "        if(bool(pattern.match(k))):\n",
    "            yy = k.split('.')\n",
    "            #print(yy[2])\n",
    "            if(len(yy) > 1): \n",
    "                rr = int(yy[2])\n",
    "                ss = rr - 1998\n",
    "                if(year == \"Y\"):\n",
    "                    number_of_Patents_granted_Y[ss] = number_of_Patents_granted_Y[ss] + 1\n",
    "b = 1998\n",
    "for k in number_of_Patents_granted_Y:\n",
    "    print(b,\" : \",k)\n",
    "    #print(k)\n",
    "    b = b + 1"
   ]
  },
  {
   "cell_type": "code",
   "execution_count": 21,
   "metadata": {},
   "outputs": [
    {
     "name": "stdout",
     "output_type": "stream",
     "text": [
      "1998  :  0\n",
      "1999  :  0\n",
      "2000  :  0\n",
      "2001  :  0\n",
      "2002  :  0\n",
      "2003  :  0\n",
      "2004  :  0\n",
      "2005  :  0\n",
      "2006  :  0\n",
      "2007  :  0\n",
      "2008  :  0\n",
      "2009  :  0\n",
      "2010  :  0\n",
      "2011  :  0\n",
      "2012  :  0\n",
      "2013  :  0\n",
      "2014  :  0\n",
      "2015  :  0\n",
      "2016  :  0\n",
      "2017  :  0\n",
      "2018  :  0\n"
     ]
    }
   ],
   "source": [
    "import re\n",
    "pattern=re.compile(\"\\d\\d.\\d\\d.\\d\\d\\d\\d\")\n",
    "number_of_Patents_granted_N = [0]*21\n",
    "for j in range(1,6):\n",
    "        t = sheet.cell_value(j,15)\n",
    "        year = str(sheet.cell_value(j,14))\n",
    "        k = str(t)\n",
    "        l = len(k)\n",
    "        st = l -1\n",
    "        if(bool(pattern.match(k))):\n",
    "            yy = k.split('.')\n",
    "            #print(yy[2])\n",
    "            if(len(yy) > 1): \n",
    "                rr = int(yy[2])\n",
    "                ss = rr - 1998\n",
    "                if(year == \"N\"):\n",
    "                    number_of_Patents_granted_N[ss] = number_of_Patents_granted_N[ss] + 1\n",
    "b = 1998\n",
    "for k in number_of_Patents_granted_N:\n",
    "    print(b,\" : \",k)\n",
    "    #print(k)\n",
    "    b = b + 1"
   ]
  },
  {
   "cell_type": "code",
   "execution_count": 22,
   "metadata": {},
   "outputs": [
    {
     "name": "stdout",
     "output_type": "stream",
     "text": [
      "1998  :  0\n",
      "1999  :  0\n",
      "2000  :  0\n",
      "2001  :  0\n",
      "2002  :  0\n",
      "2003  :  0\n",
      "2004  :  0\n",
      "2005  :  0\n",
      "2006  :  0\n",
      "2007  :  0\n",
      "2008  :  0\n",
      "2009  :  0\n",
      "2010  :  0\n",
      "2011  :  2\n",
      "2012  :  0\n",
      "2013  :  0\n",
      "2014  :  0\n",
      "2015  :  0\n",
      "2016  :  1\n",
      "2017  :  0\n",
      "2018  :  0\n"
     ]
    }
   ],
   "source": [
    "import re\n",
    "pattern=re.compile(\"\\d\\d.\\d\\d.\\d\\d\\d\\d\")\n",
    "number_of_patents_granted_to_Company = [0]*21\n",
    "for j in range(1,6):\n",
    "        t = sheet.cell_value(j,15)\n",
    "        owner = str(sheet.cell_value(j,6))\n",
    "        #print(owner)\n",
    "        k = str(t)\n",
    "        l = len(k)\n",
    "        st = l -1\n",
    "        if(bool(pattern.match(k))):\n",
    "            yy = k.split('.')\n",
    "            #print(yy[2])\n",
    "            if(len(yy) > 1): \n",
    "                rr = int(yy[2])\n",
    "                ss = rr - 1998\n",
    "                if(owner == \"Company\"):\n",
    "                    number_of_patents_granted_to_Company[ss] = number_of_patents_granted_to_Company[ss] + 1\n",
    "b = 1998\n",
    "for k in number_of_patents_granted_to_Company:\n",
    "    print(b,\" : \",k)\n",
    "    #print(k)\n",
    "    b = b + 1"
   ]
  },
  {
   "cell_type": "code",
   "execution_count": 23,
   "metadata": {},
   "outputs": [
    {
     "name": "stdout",
     "output_type": "stream",
     "text": [
      "1998  :  0\n",
      "1999  :  0\n",
      "2000  :  0\n",
      "2001  :  0\n",
      "2002  :  0\n",
      "2003  :  0\n",
      "2004  :  0\n",
      "2005  :  0\n",
      "2006  :  0\n",
      "2007  :  0\n",
      "2008  :  0\n",
      "2009  :  0\n",
      "2010  :  0\n",
      "2011  :  0\n",
      "2012  :  0\n",
      "2013  :  0\n",
      "2014  :  0\n",
      "2015  :  0\n",
      "2016  :  0\n",
      "2017  :  0\n",
      "2018  :  0\n"
     ]
    }
   ],
   "source": [
    "import re\n",
    "pattern=re.compile(\"\\d\\d.\\d\\d.\\d\\d\\d\\d\")\n",
    "number_of_patents_granted_to_Individual = [0]*21\n",
    "for j in range(1,6):\n",
    "        t = sheet.cell_value(j,15)\n",
    "        owner = str(sheet.cell_value(j,6))\n",
    "        #print(owner)\n",
    "        k = str(t)\n",
    "        l = len(k)\n",
    "        st = l -1\n",
    "        if(bool(pattern.match(k))):\n",
    "            yy = k.split('.')\n",
    "            #print(yy[2])\n",
    "            if(len(yy) > 1): \n",
    "                rr = int(yy[2])\n",
    "                ss = rr - 1998\n",
    "                if(owner == \"Individual\"):\n",
    "                    number_of_patents_granted_to_Individual[ss] = number_of_patents_granted_to_Individual[ss] + 1\n",
    "b = 1998\n",
    "for k in number_of_patents_granted_to_Individual:\n",
    "    print(b,\" : \",k)\n",
    "    #print(k)\n",
    "    b = b + 1"
   ]
  },
  {
   "cell_type": "code",
   "execution_count": 24,
   "metadata": {},
   "outputs": [
    {
     "name": "stdout",
     "output_type": "stream",
     "text": [
      "1998  :  0\n",
      "1999  :  0\n",
      "2000  :  0\n",
      "2001  :  0\n",
      "2002  :  0\n",
      "2003  :  0\n",
      "2004  :  0\n",
      "2005  :  0\n",
      "2006  :  0\n",
      "2007  :  0\n",
      "2008  :  0\n",
      "2009  :  0\n",
      "2010  :  0\n",
      "2011  :  1\n",
      "2012  :  0\n",
      "2013  :  0\n",
      "2014  :  0\n",
      "2015  :  0\n",
      "2016  :  0\n",
      "2017  :  0\n",
      "2018  :  0\n"
     ]
    }
   ],
   "source": [
    "import re\n",
    "pattern=re.compile(\"\\d\\d.\\d\\d.\\d\\d\\d\\d\")\n",
    "number_of_patents_granted_to_Research_Organisation = [0]*21\n",
    "for j in range(1,6):\n",
    "        t = sheet.cell_value(j,15)\n",
    "        owner = str(sheet.cell_value(j,6))\n",
    "        #print(owner)\n",
    "        k = str(t)\n",
    "        l = len(k)\n",
    "        st = l -1\n",
    "        if(bool(pattern.match(k))):\n",
    "            yy = k.split('.')\n",
    "            #print(yy[2])\n",
    "            if(len(yy) > 1): \n",
    "                rr = int(yy[2])\n",
    "                ss = rr - 1998\n",
    "                if(owner == \"Research Organisation\" or owner==\"Research organisation\"):\n",
    "                    number_of_patents_granted_to_Research_Organisation[ss] = number_of_patents_granted_to_Research_Organisation[ss] + 1\n",
    "b = 1998\n",
    "for k in number_of_patents_granted_to_Research_Organisation:\n",
    "    print(b,\" : \",k)\n",
    "    b = b + 1"
   ]
  },
  {
   "cell_type": "code",
   "execution_count": 25,
   "metadata": {},
   "outputs": [
    {
     "name": "stdout",
     "output_type": "stream",
     "text": [
      "Year,Number of Patents Filed,Number of Patents Granted,Number of Patents Published,Number of Patents Granted Y Status,Number of Patents Granted N Status,Number of Patents Granted to Company,Number of Patents Granted to Individual,Number of Patents Granted to Research Organisation\n",
      "1998 , 0 , 0 , 0 , 0 , 0 , 0 , 0 , 0\n",
      "1999 , 0 , 0 , 0 , 0 , 0 , 0 , 0 , 0\n",
      "2000 , 0 , 0 , 0 , 0 , 0 , 0 , 0 , 0\n",
      "2001 , 0 , 0 , 0 , 0 , 0 , 0 , 0 , 0\n",
      "2002 , 0 , 0 , 0 , 0 , 0 , 0 , 0 , 0\n",
      "2003 , 1 , 0 , 0 , 0 , 0 , 0 , 0 , 0\n",
      "2004 , 0 , 0 , 0 , 0 , 0 , 0 , 0 , 0\n",
      "2005 , 0 , 0 , 0 , 0 , 0 , 0 , 0 , 0\n",
      "2006 , 1 , 0 , 0 , 0 , 0 , 0 , 0 , 0\n",
      "2007 , 2 , 0 , 0 , 0 , 0 , 0 , 0 , 0\n",
      "2008 , 0 , 0 , 0 , 0 , 0 , 0 , 0 , 0\n",
      "2009 , 0 , 0 , 0 , 0 , 0 , 0 , 0 , 0\n",
      "2010 , 0 , 1 , 0 , 1 , 0 , 0 , 0 , 0\n",
      "2011 , 0 , 3 , 3 , 3 , 0 , 2 , 0 , 1\n",
      "2012 , 1 , 0 , 0 , 0 , 0 , 0 , 0 , 0\n",
      "2013 , 0 , 0 , 0 , 0 , 0 , 0 , 0 , 0\n",
      "2014 , 0 , 0 , 0 , 0 , 0 , 0 , 0 , 0\n",
      "2015 , 0 , 0 , 0 , 0 , 0 , 0 , 0 , 0\n",
      "2016 , 0 , 1 , 1 , 1 , 0 , 1 , 0 , 0\n",
      "2017 , 0 , 0 , 0 , 0 , 0 , 0 , 0 , 0\n",
      "2018 , 0 , 0 , 0 , 0 , 0 , 0 , 0 , 0\n"
     ]
    }
   ],
   "source": [
    "print(\"Year,Number of Patents Filed,Number of Patents Granted,Number of Patents Published,Number of Patents Granted Y Status,Number of Patents Granted N Status,Number of Patents Granted to Company,Number of Patents Granted to Individual,Number of Patents Granted to Research Organisation\")\n",
    "b = 1998\n",
    "for i in range(0,21):\n",
    "    print(b,\",\",number_of_patents_filed[i],\",\",number_of_patents_granted[i],\",\",number_of_patents_published[i],\",\",number_of_Patents_granted_Y[i],\",\",number_of_Patents_granted_N[i],\",\",number_of_patents_granted_to_Company[i],\",\",number_of_patents_granted_to_Individual[i],\",\",number_of_patents_granted_to_Research_Organisation[i])\n",
    "    b = b + 1"
   ]
  },
  {
   "cell_type": "code",
   "execution_count": 27,
   "metadata": {},
   "outputs": [],
   "source": [
    "maxi = 0\n",
    "import re\n",
    "pattern=re.compile(\"\\d\\d.\\d\\d.\\d\\d\\d\\d\")\n",
    "for j in range(1,6):\n",
    "        t = sheet.cell_value(j,15)\n",
    "        owner = str(sheet.cell_value(j,6))\n",
    "        #print(owner)\n",
    "        k = str(t)\n",
    "        l = len(k)\n",
    "        st = l -1\n",
    "        if(bool(pattern.match(k))):\n",
    "            yy = k.split('.')\n",
    "            #print(yy[2])\n",
    "            if(len(yy) > 1): \n",
    "                xx = int(yy[2])\n",
    "                if(maxi < xx):\n",
    "                    maxi = xx"
   ]
  },
  {
   "cell_type": "code",
   "execution_count": 28,
   "metadata": {},
   "outputs": [
    {
     "data": {
      "text/plain": [
       "2016"
      ]
     },
     "execution_count": 28,
     "metadata": {},
     "output_type": "execute_result"
    }
   ],
   "source": [
    "maxi"
   ]
  },
  {
   "cell_type": "code",
   "execution_count": 27,
   "metadata": {},
   "outputs": [],
   "source": [
    "import pandas as pd\n",
    "import numpy as np"
   ]
  },
  {
   "cell_type": "code",
   "execution_count": 29,
   "metadata": {},
   "outputs": [],
   "source": [
    "df=pd.read_excel(r'C:\\Users\\hp\\Desktop\\change_data.xlsx')\n",
    "df.to_csv('test1.csv',encoding='utf-8')"
   ]
  },
  {
   "cell_type": "code",
   "execution_count": null,
   "metadata": {},
   "outputs": [],
   "source": []
  }
 ],
 "metadata": {
  "kernelspec": {
   "display_name": "Python 3",
   "language": "python",
   "name": "python3"
  },
  "language_info": {
   "codemirror_mode": {
    "name": "ipython",
    "version": 3
   },
   "file_extension": ".py",
   "mimetype": "text/x-python",
   "name": "python",
   "nbconvert_exporter": "python",
   "pygments_lexer": "ipython3",
   "version": "3.7.1"
  }
 },
 "nbformat": 4,
 "nbformat_minor": 1
}
