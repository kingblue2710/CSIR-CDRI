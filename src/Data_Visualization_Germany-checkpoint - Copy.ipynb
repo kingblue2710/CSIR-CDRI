{
 "cells": [
  {
   "cell_type": "code",
   "execution_count": 42,
   "metadata": {},
   "outputs": [],
   "source": [
    "import xlrd"
   ]
  },
  {
   "cell_type": "code",
   "execution_count": 43,
   "metadata": {},
   "outputs": [
    {
     "data": {
      "text/plain": [
       "'PCT filing number'"
      ]
     },
     "execution_count": 43,
     "metadata": {},
     "output_type": "execute_result"
    }
   ],
   "source": [
    "loc = (r'C:\\Users\\hp\\Desktop\\CSIR-CDRI\\Germany.xlsx') \n",
    "  \n",
    "# To open Workbook \n",
    "wb = xlrd.open_workbook(loc) \n",
    "sheet = wb.sheet_by_index(0) \n",
    "  \n",
    "# For row 0 and column  1\n",
    "sheet.cell_value(0, 1) "
   ]
  },
  {
   "cell_type": "code",
   "execution_count": 44,
   "metadata": {},
   "outputs": [],
   "source": [
    "for i in range(0,18):\n",
    "    for j in range(0,354):\n",
    "        t = sheet.cell_value(j,i)\n",
    "        k = str(t)\n",
    "        l = len(k)\n",
    "        "
   ]
  },
  {
   "cell_type": "code",
   "execution_count": 45,
   "metadata": {},
   "outputs": [],
   "source": [
    "for j in range(1,354):\n",
    "        t = sheet.cell_value(j,1)\n",
    "        k = str(t)\n",
    "        l = len(k)\n",
    "        "
   ]
  },
  {
   "cell_type": "code",
   "execution_count": 46,
   "metadata": {},
   "outputs": [
    {
     "name": "stdout",
     "output_type": "stream",
     "text": [
      "354\n"
     ]
    }
   ],
   "source": [
    "print(sheet.nrows) "
   ]
  },
  {
   "cell_type": "code",
   "execution_count": 47,
   "metadata": {},
   "outputs": [
    {
     "name": "stdout",
     "output_type": "stream",
     "text": [
      "[0, 0, 0, 0, 0, 0, 0, 0, 0, 0, 0, 0, 0, 0, 0, 0, 0, 0, 0, 0]\n"
     ]
    }
   ],
   "source": [
    "number_of_patents_filed = [0]*20\n",
    "print(number_of_patents_filed)"
   ]
  },
  {
   "cell_type": "code",
   "execution_count": 48,
   "metadata": {},
   "outputs": [
    {
     "name": "stdout",
     "output_type": "stream",
     "text": [
      "17.10.2013\n"
     ]
    }
   ],
   "source": [
    "print(sheet.cell_value(1,3))"
   ]
  },
  {
   "cell_type": "code",
   "execution_count": 49,
   "metadata": {},
   "outputs": [
    {
     "name": "stdout",
     "output_type": "stream",
     "text": [
      "1998  :  1\n",
      "1999  :  0\n",
      "2000  :  1\n",
      "2001  :  6\n",
      "2002  :  12\n",
      "2003  :  17\n",
      "2004  :  3\n",
      "2005  :  30\n",
      "2006  :  15\n",
      "2007  :  23\n",
      "2008  :  21\n",
      "2009  :  52\n",
      "2010  :  33\n",
      "2011  :  22\n",
      "2012  :  27\n",
      "2013  :  16\n",
      "2014  :  15\n",
      "2015  :  24\n",
      "2016  :  25\n",
      "2017  :  10\n",
      "2018  :  0\n"
     ]
    }
   ],
   "source": [
    "import re\n",
    "pattern=re.compile(\"\\d\\d.\\d\\d.\\d\\d\\d\\d\")\n",
    "number_of_patents_filed = [0]*21\n",
    "for j in range(1,354):\n",
    "        t = sheet.cell_value(j,3)\n",
    "        k = str(t)\n",
    "        #print(k)\n",
    "        l = len(k)\n",
    "        if(bool(pattern.match(k))):\n",
    "            yy = k.split('.')\n",
    "            #print(yy[2])\n",
    "            if(len(yy) > 1):\n",
    "                rr = int(yy[2])\n",
    "                ss = rr -1998\n",
    "                #print(ss)\n",
    "                number_of_patents_filed[ss] = number_of_patents_filed[ss] + 1\n",
    "b = 1998\n",
    "for k in number_of_patents_filed:\n",
    "    print(b,\" : \",k)\n",
    "    #print(k)\n",
    "    b = b + 1"
   ]
  },
  {
   "cell_type": "code",
   "execution_count": 50,
   "metadata": {},
   "outputs": [
    {
     "name": "stdout",
     "output_type": "stream",
     "text": [
      "06.12.2017\n"
     ]
    }
   ],
   "source": [
    "print(sheet.cell_value(1,15))"
   ]
  },
  {
   "cell_type": "code",
   "execution_count": 51,
   "metadata": {},
   "outputs": [
    {
     "data": {
      "text/plain": [
       "True"
      ]
     },
     "execution_count": 51,
     "metadata": {},
     "output_type": "execute_result"
    }
   ],
   "source": [
    "import re\n",
    "l=[\"\\d\\d.\\d\\d.\\d\\d\\d\\d\",\"\\d\\d-\\d\\d-\\d\\d\\d\\d\"]\n",
    "pattern=re.compile(\"\\d\\d.\\d\\d.\\d\\d\\d\\d\",re.IGNORECASE)\n",
    "bool(pattern.match(\"12/12/2007\"))\n"
   ]
  },
  {
   "cell_type": "code",
   "execution_count": 52,
   "metadata": {},
   "outputs": [
    {
     "name": "stdout",
     "output_type": "stream",
     "text": [
      "1998  :  0\n",
      "1999  :  0\n",
      "2000  :  0\n",
      "2001  :  0\n",
      "2002  :  0\n",
      "2003  :  0\n",
      "2004  :  5\n",
      "2005  :  6\n",
      "2006  :  8\n",
      "2007  :  10\n",
      "2008  :  9\n",
      "2009  :  4\n",
      "2010  :  4\n",
      "2011  :  4\n",
      "2012  :  9\n",
      "2013  :  20\n",
      "2014  :  17\n",
      "2015  :  22\n",
      "2016  :  29\n",
      "2017  :  39\n",
      "2018  :  0\n"
     ]
    }
   ],
   "source": [
    "import re\n",
    "pattern=re.compile(\"\\d\\d.\\d\\d.\\d\\d\\d\\d\")\n",
    "number_of_patents_granted = [0]*21\n",
    "for j in range(1,354):\n",
    "        t = sheet.cell_value(j,15)\n",
    "        k = str(t)\n",
    "        l = len(k)\n",
    "        if(bool(pattern.match(k))):\n",
    "            yy = k.split('.')\n",
    "            #print(yy[2])\n",
    "            if(len(yy) > 1): \n",
    "                rr = int(yy[2])\n",
    "                ss = rr - 1998\n",
    "                number_of_patents_granted[ss] = number_of_patents_granted[ss] + 1\n",
    "b = 1998\n",
    "for k in number_of_patents_granted:\n",
    "    print(b,\" : \",k)\n",
    "    #print(k)\n",
    "    b = b + 1"
   ]
  },
  {
   "cell_type": "code",
   "execution_count": 55,
   "metadata": {},
   "outputs": [
    {
     "name": "stdout",
     "output_type": "stream",
     "text": [
      "1998  :  0\n",
      "1999  :  0\n",
      "2000  :  0\n",
      "2001  :  2\n",
      "2002  :  9\n",
      "2003  :  7\n",
      "2004  :  12\n",
      "2005  :  3\n",
      "2006  :  8\n",
      "2007  :  10\n",
      "2008  :  14\n",
      "2009  :  25\n",
      "2010  :  45\n",
      "2011  :  44\n",
      "2012  :  44\n",
      "2013  :  27\n",
      "2014  :  19\n",
      "2015  :  17\n",
      "2016  :  20\n",
      "2017  :  26\n",
      "2018  :  0\n"
     ]
    }
   ],
   "source": [
    "import re\n",
    "pattern=re.compile(\"\\d\\d.\\d\\d.\\d\\d\\d\\d\")\n",
    "number_of_patents_published = [0]*21\n",
    "for j in range(1,354):\n",
    "        t = sheet.cell_value(j,16)\n",
    "        k = str(t)\n",
    "        l = len(k)\n",
    "        st = l -1\n",
    "        if(bool(pattern.match(k))):\n",
    "            yy = k.split('.')\n",
    "            #print(yy[2])\n",
    "            if(len(yy) > 1): \n",
    "                rr = int(yy[2])\n",
    "                ss = rr - 1998\n",
    "                number_of_patents_published[ss] = number_of_patents_published[ss] + 1\n",
    "b = 1998\n",
    "for k in number_of_patents_published:\n",
    "    print(b,\" : \",k)\n",
    "    #print(k)\n",
    "    b = b + 1"
   ]
  },
  {
   "cell_type": "code",
   "execution_count": 56,
   "metadata": {},
   "outputs": [
    {
     "name": "stdout",
     "output_type": "stream",
     "text": [
      "1998  :  0\n",
      "1999  :  0\n",
      "2000  :  0\n",
      "2001  :  0\n",
      "2002  :  0\n",
      "2003  :  0\n",
      "2004  :  2\n",
      "2005  :  6\n",
      "2006  :  5\n",
      "2007  :  9\n",
      "2008  :  7\n",
      "2009  :  4\n",
      "2010  :  3\n",
      "2011  :  4\n",
      "2012  :  4\n",
      "2013  :  19\n",
      "2014  :  17\n",
      "2015  :  18\n",
      "2016  :  25\n",
      "2017  :  35\n",
      "2018  :  0\n"
     ]
    }
   ],
   "source": [
    "import re\n",
    "pattern=re.compile(\"\\d\\d.\\d\\d.\\d\\d\\d\\d\")\n",
    "number_of_Patents_granted_Y = [0]*21\n",
    "for j in range(1,354):\n",
    "        t = sheet.cell_value(j,15)\n",
    "        year = str(sheet.cell_value(j,14))\n",
    "        k = str(t)\n",
    "        l = len(k)\n",
    "        st = l -1\n",
    "        if(bool(pattern.match(k))):\n",
    "            yy = k.split('.')\n",
    "            #print(yy[2])\n",
    "            if(len(yy) > 1): \n",
    "                rr = int(yy[2])\n",
    "                ss = rr - 1998\n",
    "                if(year == \"Y\"):\n",
    "                    number_of_Patents_granted_Y[ss] = number_of_Patents_granted_Y[ss] + 1\n",
    "b = 1998\n",
    "for k in number_of_Patents_granted_Y:\n",
    "    print(b,\" : \",k)\n",
    "    #print(k)\n",
    "    b = b + 1"
   ]
  },
  {
   "cell_type": "code",
   "execution_count": 57,
   "metadata": {},
   "outputs": [
    {
     "name": "stdout",
     "output_type": "stream",
     "text": [
      "1998  :  0\n",
      "1999  :  0\n",
      "2000  :  0\n",
      "2001  :  0\n",
      "2002  :  0\n",
      "2003  :  0\n",
      "2004  :  3\n",
      "2005  :  0\n",
      "2006  :  3\n",
      "2007  :  1\n",
      "2008  :  2\n",
      "2009  :  0\n",
      "2010  :  1\n",
      "2011  :  0\n",
      "2012  :  5\n",
      "2013  :  1\n",
      "2014  :  0\n",
      "2015  :  4\n",
      "2016  :  4\n",
      "2017  :  4\n",
      "2018  :  0\n"
     ]
    }
   ],
   "source": [
    "import re\n",
    "pattern=re.compile(\"\\d\\d.\\d\\d.\\d\\d\\d\\d\")\n",
    "number_of_Patents_granted_N = [0]*21\n",
    "for j in range(1,354):\n",
    "        t = sheet.cell_value(j,15)\n",
    "        year = str(sheet.cell_value(j,14))\n",
    "        k = str(t)\n",
    "        l = len(k)\n",
    "        st = l -1\n",
    "        if(bool(pattern.match(k))):\n",
    "            yy = k.split('.')\n",
    "            #print(yy[2])\n",
    "            if(len(yy) > 1): \n",
    "                rr = int(yy[2])\n",
    "                ss = rr - 1998\n",
    "                if(year == \"N\"):\n",
    "                    number_of_Patents_granted_N[ss] = number_of_Patents_granted_N[ss] + 1\n",
    "b = 1998\n",
    "for k in number_of_Patents_granted_N:\n",
    "    print(b,\" : \",k)\n",
    "    #print(k)\n",
    "    b = b + 1"
   ]
  },
  {
   "cell_type": "code",
   "execution_count": 58,
   "metadata": {},
   "outputs": [
    {
     "name": "stdout",
     "output_type": "stream",
     "text": [
      "1998  :  0\n",
      "1999  :  0\n",
      "2000  :  0\n",
      "2001  :  0\n",
      "2002  :  0\n",
      "2003  :  0\n",
      "2004  :  1\n",
      "2005  :  3\n",
      "2006  :  3\n",
      "2007  :  7\n",
      "2008  :  6\n",
      "2009  :  3\n",
      "2010  :  3\n",
      "2011  :  3\n",
      "2012  :  3\n",
      "2013  :  16\n",
      "2014  :  13\n",
      "2015  :  17\n",
      "2016  :  20\n",
      "2017  :  30\n",
      "2018  :  0\n"
     ]
    }
   ],
   "source": [
    "import re\n",
    "pattern=re.compile(\"\\d\\d.\\d\\d.\\d\\d\\d\\d\")\n",
    "number_of_patents_granted_to_Company = [0]*21\n",
    "for j in range(1,354):\n",
    "        t = sheet.cell_value(j,15)\n",
    "        owner = str(sheet.cell_value(j,6))\n",
    "        #print(owner)\n",
    "        k = str(t)\n",
    "        l = len(k)\n",
    "        st = l -1\n",
    "        if(bool(pattern.match(k))):\n",
    "            yy = k.split('.')\n",
    "            #print(yy[2])\n",
    "            if(len(yy) > 1): \n",
    "                rr = int(yy[2])\n",
    "                ss = rr - 1998\n",
    "                if(owner == \"Company\"):\n",
    "                    number_of_patents_granted_to_Company[ss] = number_of_patents_granted_to_Company[ss] + 1\n",
    "b = 1998\n",
    "for k in number_of_patents_granted_to_Company:\n",
    "    print(b,\" : \",k)\n",
    "    #print(k)\n",
    "    b = b + 1"
   ]
  },
  {
   "cell_type": "code",
   "execution_count": 59,
   "metadata": {},
   "outputs": [
    {
     "name": "stdout",
     "output_type": "stream",
     "text": [
      "1998  :  0\n",
      "1999  :  0\n",
      "2000  :  0\n",
      "2001  :  0\n",
      "2002  :  0\n",
      "2003  :  0\n",
      "2004  :  3\n",
      "2005  :  1\n",
      "2006  :  3\n",
      "2007  :  1\n",
      "2008  :  3\n",
      "2009  :  0\n",
      "2010  :  1\n",
      "2011  :  0\n",
      "2012  :  5\n",
      "2013  :  2\n",
      "2014  :  0\n",
      "2015  :  4\n",
      "2016  :  7\n",
      "2017  :  5\n",
      "2018  :  0\n"
     ]
    }
   ],
   "source": [
    "import re\n",
    "pattern=re.compile(\"\\d\\d.\\d\\d.\\d\\d\\d\\d\")\n",
    "number_of_patents_granted_to_Individual = [0]*21\n",
    "for j in range(1,354):\n",
    "        t = sheet.cell_value(j,15)\n",
    "        owner = str(sheet.cell_value(j,6))\n",
    "        #print(owner)\n",
    "        k = str(t)\n",
    "        l = len(k)\n",
    "        st = l -1\n",
    "        if(bool(pattern.match(k))):\n",
    "            yy = k.split('.')\n",
    "            #print(yy[2])\n",
    "            if(len(yy) > 1): \n",
    "                rr = int(yy[2])\n",
    "                ss = rr - 1998\n",
    "                if(owner == \"Individual\"):\n",
    "                    number_of_patents_granted_to_Individual[ss] = number_of_patents_granted_to_Individual[ss] + 1\n",
    "b = 1998\n",
    "for k in number_of_patents_granted_to_Individual:\n",
    "    print(b,\" : \",k)\n",
    "    #print(k)\n",
    "    b = b + 1"
   ]
  },
  {
   "cell_type": "code",
   "execution_count": 60,
   "metadata": {},
   "outputs": [
    {
     "name": "stdout",
     "output_type": "stream",
     "text": [
      "1998  :  0\n",
      "1999  :  0\n",
      "2000  :  0\n",
      "2001  :  0\n",
      "2002  :  0\n",
      "2003  :  0\n",
      "2004  :  0\n",
      "2005  :  0\n",
      "2006  :  0\n",
      "2007  :  0\n",
      "2008  :  0\n",
      "2009  :  0\n",
      "2010  :  0\n",
      "2011  :  0\n",
      "2012  :  0\n",
      "2013  :  0\n",
      "2014  :  0\n",
      "2015  :  0\n",
      "2016  :  0\n",
      "2017  :  0\n",
      "2018  :  0\n"
     ]
    }
   ],
   "source": [
    "import re\n",
    "pattern=re.compile(\"\\d\\d.\\d\\d.\\d\\d\\d\\d\")\n",
    "number_of_patents_granted_to_Research_Organisation = [0]*21\n",
    "for j in range(1,354):\n",
    "        t = sheet.cell_value(j,15)\n",
    "        owner = str(sheet.cell_value(j,6))\n",
    "        #print(owner)\n",
    "        k = str(t)\n",
    "        l = len(k)\n",
    "        st = l -1\n",
    "        if(bool(pattern.match(k))):\n",
    "            yy = k.split('.')\n",
    "            #print(yy[2])\n",
    "            if(len(yy) > 1): \n",
    "                rr = int(yy[2])\n",
    "                ss = rr - 1998\n",
    "                if(owner == \"Research organization\"):\n",
    "                    number_of_patents_granted_to_Research_Organisation[ss] = number_of_patents_granted_to_Research_Organisation[ss] + 1\n",
    "b = 1998\n",
    "for k in number_of_patents_granted_to_Research_Organisation:\n",
    "    print(b,\" : \",k)\n",
    "    b = b + 1"
   ]
  },
  {
   "cell_type": "code",
   "execution_count": 61,
   "metadata": {},
   "outputs": [
    {
     "name": "stdout",
     "output_type": "stream",
     "text": [
      "Year,Number of Patents Filed,Number of Patents Granted,Number of Patents Published,Number of Patents Granted Y Status,Number of Patents Granted N Status,Number of Patents Granted to Company,Number of Patents Granted to Individual,Number of Patents Granted to Research Organisation\n",
      "1998 , 1 , 0 , 0 , 0 , 0 , 0 , 0 , 0\n",
      "1999 , 0 , 0 , 0 , 0 , 0 , 0 , 0 , 0\n",
      "2000 , 1 , 0 , 0 , 0 , 0 , 0 , 0 , 0\n",
      "2001 , 6 , 0 , 2 , 0 , 0 , 0 , 0 , 0\n",
      "2002 , 12 , 0 , 9 , 0 , 0 , 0 , 0 , 0\n",
      "2003 , 17 , 0 , 7 , 0 , 0 , 0 , 0 , 0\n",
      "2004 , 3 , 5 , 12 , 2 , 3 , 1 , 3 , 0\n",
      "2005 , 30 , 6 , 3 , 6 , 0 , 3 , 1 , 0\n",
      "2006 , 15 , 8 , 8 , 5 , 3 , 3 , 3 , 0\n",
      "2007 , 23 , 10 , 10 , 9 , 1 , 7 , 1 , 0\n",
      "2008 , 21 , 9 , 14 , 7 , 2 , 6 , 3 , 0\n",
      "2009 , 52 , 4 , 25 , 4 , 0 , 3 , 0 , 0\n",
      "2010 , 33 , 4 , 45 , 3 , 1 , 3 , 1 , 0\n",
      "2011 , 22 , 4 , 44 , 4 , 0 , 3 , 0 , 0\n",
      "2012 , 27 , 9 , 44 , 4 , 5 , 3 , 5 , 0\n",
      "2013 , 16 , 20 , 27 , 19 , 1 , 16 , 2 , 0\n",
      "2014 , 15 , 17 , 19 , 17 , 0 , 13 , 0 , 0\n",
      "2015 , 24 , 22 , 17 , 18 , 4 , 17 , 4 , 0\n",
      "2016 , 25 , 29 , 20 , 25 , 4 , 20 , 7 , 0\n",
      "2017 , 10 , 39 , 26 , 35 , 4 , 30 , 5 , 0\n",
      "2018 , 0 , 0 , 0 , 0 , 0 , 0 , 0 , 0\n"
     ]
    }
   ],
   "source": [
    "print(\"Year,Number of Patents Filed,Number of Patents Granted,Number of Patents Published,Number of Patents Granted Y Status,Number of Patents Granted N Status,Number of Patents Granted to Company,Number of Patents Granted to Individual,Number of Patents Granted to Research Organisation\")\n",
    "b = 1998\n",
    "for i in range(0,21):\n",
    "    print(b,\",\",number_of_patents_filed[i],\",\",number_of_patents_granted[i],\",\",number_of_patents_published[i],\",\",number_of_Patents_granted_Y[i],\",\",number_of_Patents_granted_N[i],\",\",number_of_patents_granted_to_Company[i],\",\",number_of_patents_granted_to_Individual[i],\",\",number_of_patents_granted_to_Research_Organisation[i])\n",
    "    b = b + 1"
   ]
  },
  {
   "cell_type": "code",
   "execution_count": 62,
   "metadata": {},
   "outputs": [],
   "source": [
    "maxi = 0\n",
    "import re\n",
    "pattern=re.compile(\"\\d\\d.\\d\\d.\\d\\d\\d\\d\")\n",
    "for j in range(1,354):\n",
    "        t = sheet.cell_value(j,15)\n",
    "        owner = str(sheet.cell_value(j,6))\n",
    "        #print(owner)\n",
    "        k = str(t)\n",
    "        l = len(k)\n",
    "        st = l -1\n",
    "        if(bool(pattern.match(k))):\n",
    "            yy = k.split('.')\n",
    "            #print(yy[2])\n",
    "            if(len(yy) > 1): \n",
    "                xx = int(yy[2])\n",
    "                if(maxi < xx):\n",
    "                    maxi = xx"
   ]
  },
  {
   "cell_type": "code",
   "execution_count": 63,
   "metadata": {},
   "outputs": [
    {
     "data": {
      "text/plain": [
       "2017"
      ]
     },
     "execution_count": 63,
     "metadata": {},
     "output_type": "execute_result"
    }
   ],
   "source": [
    "maxi"
   ]
  },
  {
   "cell_type": "code",
   "execution_count": null,
   "metadata": {},
   "outputs": [],
   "source": []
  }
 ],
 "metadata": {
  "kernelspec": {
   "display_name": "Python 3",
   "language": "python",
   "name": "python3"
  },
  "language_info": {
   "codemirror_mode": {
    "name": "ipython",
    "version": 3
   },
   "file_extension": ".py",
   "mimetype": "text/x-python",
   "name": "python",
   "nbconvert_exporter": "python",
   "pygments_lexer": "ipython3",
   "version": "3.7.1"
  }
 },
 "nbformat": 4,
 "nbformat_minor": 1
}
